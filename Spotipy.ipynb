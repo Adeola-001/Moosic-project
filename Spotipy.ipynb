{
 "cells": [
  {
   "cell_type": "code",
   "execution_count": 1,
   "id": "adc156de-e026-41e8-9932-a1a7244c787f",
   "metadata": {},
   "outputs": [],
   "source": [
    "#pip install spotipy"
   ]
  },
  {
   "cell_type": "code",
   "execution_count": 2,
   "id": "a105fcd3-62e6-4e77-a83e-36a9a9e3af8c",
   "metadata": {},
   "outputs": [],
   "source": [
    "import pandas as pd\n",
    "import spotipy\n",
    "from spotipy.oauth2 import SpotifyOAuth\n",
    "import keys"
   ]
  },
  {
   "cell_type": "code",
   "execution_count": 3,
   "id": "19c69cef-b3e6-42e4-b0ba-eb0063ed196a",
   "metadata": {},
   "outputs": [],
   "source": [
    "url = r\"C:\\Users\\deola\\Downloads\\2_spotify_10_songs.csv\"\n",
    "songs = pd.read_csv(url) "
   ]
  },
  {
   "cell_type": "code",
   "execution_count": 4,
   "id": "b2746199-9893-4aad-9fdb-677fd039e90b",
   "metadata": {},
   "outputs": [
    {
     "data": {
      "text/plain": [
       "Index(['song_name', 'artist', 'danceability', 'energy', 'key', 'loudness',\n",
       "       'mode', 'speechiness', 'acousticness', 'instrumentalness', 'liveness',\n",
       "       'valence', 'tempo', 'duration_ms', 'time_signature', 'id', 'html'],\n",
       "      dtype='object')"
      ]
     },
     "execution_count": 4,
     "metadata": {},
     "output_type": "execute_result"
    }
   ],
   "source": [
    "songs.columns= songs.columns.str.strip()\n",
    "songs.columns"
   ]
  },
  {
   "cell_type": "code",
   "execution_count": 5,
   "id": "a2d68396-fd43-4ad2-a43c-c2c8496b9a68",
   "metadata": {},
   "outputs": [
    {
     "data": {
      "text/html": [
       "<div>\n",
       "<style scoped>\n",
       "    .dataframe tbody tr th:only-of-type {\n",
       "        vertical-align: middle;\n",
       "    }\n",
       "\n",
       "    .dataframe tbody tr th {\n",
       "        vertical-align: top;\n",
       "    }\n",
       "\n",
       "    .dataframe thead th {\n",
       "        text-align: right;\n",
       "    }\n",
       "</style>\n",
       "<table border=\"1\" class=\"dataframe\">\n",
       "  <thead>\n",
       "    <tr style=\"text-align: right;\">\n",
       "      <th></th>\n",
       "      <th>song_name</th>\n",
       "      <th>artist</th>\n",
       "      <th>danceability</th>\n",
       "      <th>energy</th>\n",
       "      <th>key</th>\n",
       "      <th>loudness</th>\n",
       "      <th>mode</th>\n",
       "      <th>speechiness</th>\n",
       "      <th>acousticness</th>\n",
       "      <th>instrumentalness</th>\n",
       "      <th>liveness</th>\n",
       "      <th>valence</th>\n",
       "      <th>tempo</th>\n",
       "      <th>duration_ms</th>\n",
       "      <th>time_signature</th>\n",
       "      <th>id</th>\n",
       "      <th>html</th>\n",
       "    </tr>\n",
       "  </thead>\n",
       "  <tbody>\n",
       "    <tr>\n",
       "      <th>0</th>\n",
       "      <td>My Band                                       ...</td>\n",
       "      <td>D12</td>\n",
       "      <td>0.851</td>\n",
       "      <td>0.849</td>\n",
       "      <td>1</td>\n",
       "      <td>-3.383</td>\n",
       "      <td>0</td>\n",
       "      <td>0.0828</td>\n",
       "      <td>0.4970</td>\n",
       "      <td>0.000002</td>\n",
       "      <td>0.1160</td>\n",
       "      <td>0.844</td>\n",
       "      <td>120.014</td>\n",
       "      <td>298773</td>\n",
       "      <td>4</td>\n",
       "      <td>4XHQyvbrBsQaaBUW1VvmsL</td>\n",
       "      <td>https://open.spotify.com/track/4XHQyvbrBsQaaBU...</td>\n",
       "    </tr>\n",
       "    <tr>\n",
       "      <th>1</th>\n",
       "      <td>The Real Slim Shady                           ...</td>\n",
       "      <td>Eminem</td>\n",
       "      <td>0.949</td>\n",
       "      <td>0.661</td>\n",
       "      <td>5</td>\n",
       "      <td>-4.244</td>\n",
       "      <td>0</td>\n",
       "      <td>0.0572</td>\n",
       "      <td>0.0302</td>\n",
       "      <td>0.000000</td>\n",
       "      <td>0.0454</td>\n",
       "      <td>0.760</td>\n",
       "      <td>104.504</td>\n",
       "      <td>284200</td>\n",
       "      <td>4</td>\n",
       "      <td>3yfqSUWxFvZELEM4PmlwIR</td>\n",
       "      <td>https://open.spotify.com/track/3yfqSUWxFvZELEM...</td>\n",
       "    </tr>\n",
       "  </tbody>\n",
       "</table>\n",
       "</div>"
      ],
      "text/plain": [
       "                                           song_name                 artist  \\\n",
       "0  My Band                                       ...  D12                     \n",
       "1  The Real Slim Shady                           ...  Eminem                  \n",
       "\n",
       "   danceability  energy  key  loudness  mode  speechiness  acousticness  \\\n",
       "0         0.851   0.849    1    -3.383     0       0.0828        0.4970   \n",
       "1         0.949   0.661    5    -4.244     0       0.0572        0.0302   \n",
       "\n",
       "   instrumentalness  liveness  valence    tempo  duration_ms  time_signature  \\\n",
       "0          0.000002    0.1160    0.844  120.014       298773               4   \n",
       "1          0.000000    0.0454    0.760  104.504       284200               4   \n",
       "\n",
       "                        id                                               html  \n",
       "0  4XHQyvbrBsQaaBUW1VvmsL   https://open.spotify.com/track/4XHQyvbrBsQaaBU...  \n",
       "1  3yfqSUWxFvZELEM4PmlwIR   https://open.spotify.com/track/3yfqSUWxFvZELEM...  "
      ]
     },
     "execution_count": 5,
     "metadata": {},
     "output_type": "execute_result"
    }
   ],
   "source": [
    "songs.head(2)"
   ]
  },
  {
   "cell_type": "code",
   "execution_count": 6,
   "id": "18e52562-0094-4d1f-a20a-e0578ebb6f2b",
   "metadata": {},
   "outputs": [],
   "source": [
    "scope='playlist-modify-public'\n",
    "username= keys.username\n",
    "redirectUri = 'http://localhost:8888/callback'\n",
    "client_id=keys.client_id\n",
    "client_secret=keys.client_secret"
   ]
  },
  {
   "cell_type": "code",
   "execution_count": 7,
   "id": "9ca2fe72-0201-4502-a002-481b85197965",
   "metadata": {},
   "outputs": [],
   "source": [
    "token = SpotifyOAuth(scope=scope,username=username,client_id=client_id,\n",
    "                     client_secret=client_secret, redirect_uri=redirectUri)"
   ]
  },
  {
   "cell_type": "code",
   "execution_count": 8,
   "id": "d7912978-46d5-4cf9-9a68-a95ec6d8070a",
   "metadata": {},
   "outputs": [],
   "source": [
    "spotifyObject = spotipy.Spotify(auth_manager=token)"
   ]
  },
  {
   "cell_type": "code",
   "execution_count": 9,
   "id": "3e561e9d-734f-4afd-87d1-16387b3c1a05",
   "metadata": {},
   "outputs": [],
   "source": [
    "playlist_name='my_playlist'\n",
    "playlist_description = '10 songs'"
   ]
  },
  {
   "cell_type": "code",
   "execution_count": 10,
   "id": "824ed4ef-d9bc-4840-888d-499d9f6f7a1b",
   "metadata": {},
   "outputs": [],
   "source": [
    "playlist = spotifyObject.user_playlist_create(user=username,name=playlist_name,\n",
    "                                                 description=playlist_description,public=True)"
   ]
  },
  {
   "cell_type": "code",
   "execution_count": 11,
   "id": "98c23c87-2574-4645-827d-21e28c9e1d04",
   "metadata": {
    "scrolled": true
   },
   "outputs": [
    {
     "data": {
      "text/plain": [
       "{'collaborative': False,\n",
       " 'description': '10 songs',\n",
       " 'external_urls': {'spotify': 'https://open.spotify.com/playlist/7KzfaSAYdAiVCSODdkejGZ'},\n",
       " 'followers': {'href': None, 'total': 0},\n",
       " 'href': 'https://api.spotify.com/v1/playlists/7KzfaSAYdAiVCSODdkejGZ',\n",
       " 'id': '7KzfaSAYdAiVCSODdkejGZ',\n",
       " 'images': [],\n",
       " 'primary_color': None,\n",
       " 'name': 'my_playlist',\n",
       " 'type': 'playlist',\n",
       " 'uri': 'spotify:playlist:7KzfaSAYdAiVCSODdkejGZ',\n",
       " 'owner': {'href': 'https://api.spotify.com/v1/users/f99b75d2b88e466a99e5ca17123dd311',\n",
       "  'id': 'f99b75d2b88e466a99e5ca17123dd311',\n",
       "  'type': 'user',\n",
       "  'uri': 'spotify:user:f99b75d2b88e466a99e5ca17123dd311',\n",
       "  'display_name': None,\n",
       "  'external_urls': {'spotify': 'https://open.spotify.com/user/f99b75d2b88e466a99e5ca17123dd311'}},\n",
       " 'public': True,\n",
       " 'snapshot_id': 'AAAABaMqMIRIYWY3hbtNlr19ZkitXxjs',\n",
       " 'tracks': {'limit': 100,\n",
       "  'next': None,\n",
       "  'offset': 0,\n",
       "  'previous': None,\n",
       "  'href': 'https://api.spotify.com/v1/playlists/7KzfaSAYdAiVCSODdkejGZ/tracks',\n",
       "  'total': 0,\n",
       "  'items': []}}"
      ]
     },
     "execution_count": 11,
     "metadata": {},
     "output_type": "execute_result"
    }
   ],
   "source": [
    "playlist"
   ]
  },
  {
   "cell_type": "code",
   "execution_count": 12,
   "id": "67ca7667-cc55-4a04-9098-010ce4e1feee",
   "metadata": {},
   "outputs": [],
   "source": [
    "list_of_songs=[]\n",
    "for i, row in songs.iterrows():\n",
    "    list_of_songs.append(f'spotify:track:{row[\"id\"]}')\n",
    "   "
   ]
  },
  {
   "cell_type": "code",
   "execution_count": 13,
   "id": "f616f013-ec6a-4e83-885b-47af6ca70ceb",
   "metadata": {},
   "outputs": [],
   "source": [
    "#list_of_songs = f'spotify:track:' + songs['id']"
   ]
  },
  {
   "cell_type": "code",
   "execution_count": 14,
   "id": "ac99c024-db4a-4fb4-82af-5bf836725842",
   "metadata": {},
   "outputs": [],
   "source": [
    "list_of_songs = [track.strip() for track in list_of_songs]"
   ]
  },
  {
   "cell_type": "code",
   "execution_count": 15,
   "id": "397d7485-9a5b-44ff-95c4-0af65e1fa5b3",
   "metadata": {},
   "outputs": [
    {
     "data": {
      "text/plain": [
       "['spotify:track:4XHQyvbrBsQaaBUW1VvmsL',\n",
       " 'spotify:track:3yfqSUWxFvZELEM4PmlwIR',\n",
       " 'spotify:track:1y7OxO5i6sfrHXAmUM77YG',\n",
       " 'spotify:track:3898C4AbdbptwYet6547e5',\n",
       " 'spotify:track:63T7DJ1AFDD6Bn8VzG6JE8',\n",
       " 'spotify:track:6cr6UDpkjEaMQ80OjWqEBQ',\n",
       " 'spotify:track:4F8OK7mNa51mKqgHqWQiYm',\n",
       " 'spotify:track:2vfSCFvMbpf4hwxt22Wx7b',\n",
       " 'spotify:track:59cPOVxrn3Yjwydl1pullI',\n",
       " 'spotify:track:7n92QzQomRCLlciO14X0kd']"
      ]
     },
     "execution_count": 15,
     "metadata": {},
     "output_type": "execute_result"
    }
   ],
   "source": [
    "list_of_songs"
   ]
  },
  {
   "cell_type": "code",
   "execution_count": 16,
   "id": "8817ddd7-30b2-4054-8031-275ef6ce3d48",
   "metadata": {},
   "outputs": [
    {
     "data": {
      "text/plain": [
       "'7KzfaSAYdAiVCSODdkejGZ'"
      ]
     },
     "execution_count": 16,
     "metadata": {},
     "output_type": "execute_result"
    }
   ],
   "source": [
    "playlist_id = playlist['id']\n",
    "playlist_id"
   ]
  },
  {
   "cell_type": "code",
   "execution_count": 17,
   "id": "f5da2a6c-0247-4be9-b6fb-f69e0e4a9d93",
   "metadata": {},
   "outputs": [
    {
     "data": {
      "text/plain": [
       "{'snapshot_id': 'AAAAAtGONoZB6VwGwCrKVXzPDmMGY1gQ'}"
      ]
     },
     "execution_count": 17,
     "metadata": {},
     "output_type": "execute_result"
    }
   ],
   "source": [
    "spotifyObject.user_playlist_add_tracks(user=username,playlist_id=playlist_id,tracks=list_of_songs)"
   ]
  },
  {
   "cell_type": "code",
   "execution_count": null,
   "id": "302e3903-8e18-4f83-b29f-2f49807afa06",
   "metadata": {},
   "outputs": [],
   "source": []
  }
 ],
 "metadata": {
  "kernelspec": {
   "display_name": "Python 3 (ipykernel)",
   "language": "python",
   "name": "python3"
  },
  "language_info": {
   "codemirror_mode": {
    "name": "ipython",
    "version": 3
   },
   "file_extension": ".py",
   "mimetype": "text/x-python",
   "name": "python",
   "nbconvert_exporter": "python",
   "pygments_lexer": "ipython3",
   "version": "3.11.7"
  }
 },
 "nbformat": 4,
 "nbformat_minor": 5
}
